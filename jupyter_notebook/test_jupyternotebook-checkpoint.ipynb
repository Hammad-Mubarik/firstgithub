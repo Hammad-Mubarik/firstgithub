{
 "cells": [
  {
   "cell_type": "markdown",
   "id": "1aa247bd",
   "metadata": {},
   "source": [
    "# Python ka chilla with aammar\n",
    "## how to use Jupyter Notebook\n",
    "## Basics of Python\n",
    "###**01-My first program**"
   ]
  },
  {
   "cell_type": "code",
   "execution_count": 1,
   "id": "5636d65e",
   "metadata": {},
   "outputs": [
    {
     "name": "stdout",
     "output_type": "stream",
     "text": [
      "10\n",
      "hello im hammad\n",
      "learning python with Aamar\n"
     ]
    }
   ],
   "source": [
    "# my first program in python\n",
    "print(2+8)\n",
    "print(\"hello im hammad\")\n",
    "print(\"learning python with Aamar\")\n"
   ]
  },
  {
   "cell_type": "markdown",
   "id": "5e7b1bc0",
   "metadata": {},
   "source": [
    "###**02-operators**"
   ]
  },
  {
   "cell_type": "code",
   "execution_count": 2,
   "id": "c69f78fd",
   "metadata": {
    "scrolled": true
   },
   "outputs": [
    {
     "name": "stdout",
     "output_type": "stream",
     "text": [
      "6\n",
      "3\n",
      "10\n",
      "5.0\n",
      "1\n",
      "25\n",
      "5\n",
      "-2.666666666666667\n"
     ]
    }
   ],
   "source": [
    "print(1+5)\n",
    "print(5-2)\n",
    "print(5*2)\n",
    "print(10/2)\n",
    "print(13%2)               \n",
    "print(5**2)\n",
    "print(10//2)                \n",
    "                                \n",
    "print(2**4/6*3/6+4-8)"
   ]
  },
  {
   "cell_type": "markdown",
   "id": "d8130786",
   "metadata": {},
   "source": [
    "*PEMDAS*\n",
    "*Parenthesis Exponent Multiplication Division Addition Substraction*\n",
    "*Left to Right sequence for M D & A S*\n",
    "*Resolve or Execute*"
   ]
  },
  {
   "cell_type": "markdown",
   "id": "72da1144",
   "metadata": {},
   "source": [
    "###**03-strings**"
   ]
  },
  {
   "cell_type": "code",
   "execution_count": null,
   "id": "0cbd73c7",
   "metadata": {},
   "outputs": [],
   "source": [
    "print(\"Hello Twitter\")\n",
    "print(\"Im learning python with Aammar\")\n",
    "print('Test with single quotes')\n",
    "print(\"test with double quotes\")\n",
    "print('''test with triple quotes''')\n",
    "\n",
    "print(\"what's up  ?\")"
   ]
  },
  {
   "cell_type": "markdown",
   "id": "bf4df25e",
   "metadata": {},
   "source": [
    "###**04-comments in python**\n",
    " the shortcut key to comment is **Ctrl+/**"
   ]
  },
  {
   "cell_type": "code",
   "execution_count": null,
   "id": "e357c773",
   "metadata": {},
   "outputs": [],
   "source": [
    "print(\"hello what's up \")                               # press these to comment out Ctrl+/\n",
    "print(\"m learning python with Aammar\")                  # print a string\n",
    "print(2+5)                                              #print operator funtion with numbers\n"
   ]
  },
  {
   "cell_type": "markdown",
   "id": "2b9de956",
   "metadata": {},
   "source": [
    "###**05-variables**\n",
    "\n",
    "**Varaibles : objects having specific values**"
   ]
  },
  {
   "cell_type": "code",
   "execution_count": null,
   "id": "f4351119",
   "metadata": {},
   "outputs": [],
   "source": [
    "#Varaibles : objects having specific values\n",
    "x = 5                          #numeric or integer variable\n",
    " print(x)\n",
    "\n",
    "\n",
    "y= \"Im learning python with Aammar\"    # string variable\n",
    "print(y)\n",
    "\n",
    "\n",
    "x= 15\n",
    "print(x)\n",
    "\n",
    "x= x+10  # or x=15\n",
    "\n",
    "print(x)"
   ]
  },
  {
   "cell_type": "markdown",
   "id": "e98075bb",
   "metadata": {},
   "source": [
    "#Types of variables\n",
    "\n",
    "type(x)\n",
    "print(type(x))\n",
    "\n",
    "print(type(y))\n",
    "\n",
    "print_type_class\n",
    "\n",
    "Rules to assign a Varaiable\n",
    "\n",
    "1- The variable should contain letters, numbers or underscores.\n",
    "2- Do not start with numbers.\n",
    "3- Spaces are not allowed. \n",
    "4- Do not use keywords used in functions ( break, mean , media, test etc.)\n",
    "5- Short and Discriptive.\n",
    "6- Case senstivity (Lowercase, uppercase letters  Lowercase letters should be used)\n"
   ]
  },
  {
   "cell_type": "code",
   "execution_count": null,
   "id": "1e448c71",
   "metadata": {},
   "outputs": [],
   "source": [
    "fruit_basket= 5\n",
    "print(type(fruit_basket))\n",
    "\n",
    "fruit_basket= 8\n",
    "fruit_basket= \"Mangoes\"\n",
    "print(type(fruit_basket))\n",
    "print(fruit_basket)"
   ]
  },
  {
   "cell_type": "markdown",
   "id": "1c07b742",
   "metadata": {},
   "source": [
    "###**06-input variables**"
   ]
  },
  {
   "cell_type": "code",
   "execution_count": null,
   "id": "ba2409c4",
   "metadata": {},
   "outputs": [],
   "source": [
    "fruit_basket=\"Mangoes\"\n",
    " print(fruit_basket)\n",
    "\n",
    "\n",
    "#input_function\n",
    "\n",
    "fruit_basket=input(\"which is your favourite fruit?\")\n",
    "print(fruit_basket)\n",
    "\n",
    "#input of 2nd stage\n",
    "name=input(\"what is your name\")\n",
    "greetings= \"Hello!\"\n",
    "\n",
    "print(greetings,name)\n",
    "\n",
    "#Another way of 2nd stage input function\n",
    "name=input(\"what is your name\")\n",
    "\n",
    "print(\"Hello!\", name)\n",
    "\n",
    "#3rd stage of input function\n",
    "\n",
    "name=input(\"what is your name\")\n",
    "age=input(\"what is your age\")\n",
    "greetings=\"Hello\"\n",
    "\n",
    "print(greetings,name, \", you are still young\")\n",
    "\n",
    "# input_Ammar you are still young\n"
   ]
  },
  {
   "cell_type": "markdown",
   "id": "31c7c808",
   "metadata": {},
   "source": [
    "###**07-conditional logics**"
   ]
  },
  {
   "cell_type": "markdown",
   "id": "c6e400c1",
   "metadata": {},
   "source": [
    "logical operators are either \"True\" or \"False\" or \"Yes\" or \"No\" or \"0\" or \"1\"\n",
    "equal to                               ==        \n",
    "Not equal to                           != less than                              <\n",
    "greater than                           >\n",
    "less than  and Lequal to               <=\n",
    " greater than and equal to             >=\n",
    "\n",
    "\n",
    "#is 4 equal to 4?"
   ]
  },
  {
   "cell_type": "code",
   "execution_count": null,
   "id": "e2c4d056",
   "metadata": {},
   "outputs": [],
   "source": [
    "print(4==4)\n",
    "print(4!=4)\n",
    "print(4>3)\n",
    "print(3>6)\n",
    "print(3<=5)\n",
    "print(5>=3)"
   ]
  },
  {
   "cell_type": "markdown",
   "id": "ef55fbda",
   "metadata": {},
   "source": [
    "###**08-type conversion**"
   ]
  },
  {
   "cell_type": "code",
   "execution_count": null,
   "id": "a57eca2f",
   "metadata": {},
   "outputs": [],
   "source": [
    "x  = 10          #integer\n",
    "y  = 10.2        #Float\n",
    "z  = \"Hello\"     #string\n",
    "\n",
    " #implicit type conversion\n",
    "\n",
    " y = y+x\n",
    "\n",
    " print(y,\"Type of y :\",type(y))\n",
    "\n",
    "\n",
    "#explicit type conversion\n",
    "\n",
    "age = input(\"what is your age\")\n",
    "age = int(age)\n",
    "\n",
    "print(age,type(int(age)))        #For float use float function\n",
    "                                 #for string use str function\n",
    "\n",
    "# Type_concversion               "
   ]
  },
  {
   "cell_type": "markdown",
   "id": "118e990b",
   "metadata": {},
   "source": [
    "###**09-if,elif,else**"
   ]
  },
  {
   "cell_type": "code",
   "execution_count": null,
   "id": "5d3a49d0",
   "metadata": {},
   "outputs": [],
   "source": [
    "required_age_at_school = 5\n",
    "hammad_age = 2\n",
    "\n",
    " #Question : Can Hammad go to school?\n",
    "\n",
    "if hammad_age==required_age_at_school:\n",
    "    print(\"Congratulations! Hammad can join the school\")\n",
    "elif hammad_age > required_age_at_school:\n",
    "    print(\"Hammad should join higer secondary college\")\n",
    "elif hammad_age == 2:\n",
    "    print(\"You should take care of Hammad , he is still a baby\")     \n",
    "else:\n",
    "    print(\"Hammad cannot go to school\")\n",
    "\n",
    "\n",
    "        \n",
    " #if ,else, elif statements clear."
   ]
  },
  {
   "cell_type": "markdown",
   "id": "6dd79b8e",
   "metadata": {},
   "source": [
    "###**10-functions**"
   ]
  },
  {
   "cell_type": "code",
   "execution_count": 158,
   "id": "a9a112da",
   "metadata": {
    "scrolled": true
   },
   "outputs": [
    {
     "name": "stdout",
     "output_type": "stream",
     "text": [
      "Im learning with AAmmar\n",
      "Im learning with AAmmar\n",
      "Im learning with AAmmar\n",
      "Im learning with AAmmar\n",
      "Im learning with AAmmar\n",
      "IM learning with aamar\n",
      "im learning with aamar\n",
      "im learning with aamar\n",
      "Im learning with Aammar on Codanics youtube channel\n",
      "Im learning with Aammar on Codanics youtube channel\n",
      "Im learning with Aammar on Codanics youtube channel\n",
      "im learning python on codanics youtube channel\n",
      "im learning python on codanics youtube channel\n",
      "im learning python on codanics youtube channel\n",
      "Nigga what are you doing just sleep\n",
      "25\n"
     ]
    }
   ],
   "source": [
    "print(\"Im learning with AAmmar\")\n",
    "print(\"Im learning with AAmmar\") \n",
    "print(\"Im learning with AAmmar\")\n",
    "print(\"Im learning with AAmmar\")\n",
    "print(\"Im learning with AAmmar\")\n",
    "\n",
    "\n",
    "#Defining a function\n",
    " # 1\n",
    "def print_codanics():\n",
    "    print(\"IM learning with aamar\")\n",
    "    print(\"im learning with aamar\")\n",
    "    print(\"im learning with aamar\")\n",
    "\n",
    "print_codanics()    \n",
    "\n",
    "  # 2 \n",
    "\n",
    "def print_codanicss():\n",
    "    text = \"Im learning with Aammar on Codanics youtube channel\"\n",
    "    print(text)\n",
    "    print(text)\n",
    "    print(text)\n",
    "    \n",
    " \n",
    "print_codanicss()\n",
    "\n",
    "# 3\n",
    "\n",
    "def print_codanics(text):\n",
    "    print(text)\n",
    "    print(text)\n",
    "    print(text)\n",
    "\n",
    "print_codanics(\"im learning python on codanics youtube channel\")\n",
    "\n",
    "\n",
    "# Defining a function with if, elif else statements\n",
    "\n",
    "def school_calculator(age, text):\n",
    "    if age == 5:\n",
    "        print(\"Hammad can join the school\")\n",
    "    elif age > 5:\n",
    "        print(\"Hammad should go to hiher school\")\n",
    "    elif age <2:\n",
    "        print(\"Nigga what are you doing just sleep\")\n",
    "    else:\n",
    "        print(\"Hammad is still a baby boy\")\n",
    "    \n",
    "    \n",
    "\n",
    "school_calculator(1,\"bastard\")\n",
    "\n",
    "\n",
    "#  Defining a function of future\n",
    "\n",
    "def future_age(age):\n",
    "    new_age = age+20\n",
    "    return new_age\n",
    " \n",
    "   \n",
    "    future_predicted_age= future_age(5)    \n",
    "print(future_predicted_age)\n",
    "\n",
    "# i understand functions really good."
   ]
  },
  {
   "cell_type": "markdown",
   "id": "4215ebf8",
   "metadata": {},
   "source": [
    "###**11-loops**"
   ]
  },
  {
   "cell_type": "code",
   "execution_count": 174,
   "id": "9d722946",
   "metadata": {
    "scrolled": true
   },
   "outputs": [
    {
     "name": "stdout",
     "output_type": "stream",
     "text": [
      "0\n",
      "1\n",
      "2\n",
      "3\n",
      "4\n",
      "5\n",
      "6\n",
      "7\n",
      "8\n",
      "9\n",
      "Mon\n",
      "Tue\n",
      "Wed\n",
      "thu\n",
      "Sat\n",
      "Sun\n"
     ]
    }
   ],
   "source": [
    " x = 0\n",
    "\n",
    "while (x<5):\n",
    "    print(x)\n",
    "    x=x+1\n",
    "#for loop\n",
    "\n",
    "for x in range(5,10):\n",
    "     print(x)\n",
    "\n",
    "# array \n",
    "\n",
    "days = [\"Mon\",\"Tue\",\"Wed\",\"thu\",\"Fri\",\"Sat\",\"Sun\"]\n",
    "\n",
    "for d in days:\n",
    "    # if (d==\"Fri\"):break   #loop stops\n",
    "    if (d==\"Fri\"):continue  # skips d\n",
    "    print(d)\n",
    "\n",
    "\n"
   ]
  },
  {
   "cell_type": "markdown",
   "id": "046abc06",
   "metadata": {},
   "source": [
    "###**12-import libraries**"
   ]
  },
  {
   "cell_type": "code",
   "execution_count": 175,
   "id": "0a7c471e",
   "metadata": {},
   "outputs": [
    {
     "name": "stdout",
     "output_type": "stream",
     "text": [
      "The value of pi is 3.141592653589793\n",
      "300\n"
     ]
    }
   ],
   "source": [
    "#if you want to print the value of pi\n",
    "\n",
    "import math\n",
    "print(\"The value of pi is\",math.pi)\n",
    "\n",
    "\n",
    "\n",
    "import statistics\n",
    "\n",
    "x = [100,200,300,400,500]\n",
    "\n",
    "print(statistics.mean(x))\n",
    "\n",
    "# numpy , pandas"
   ]
  },
  {
   "cell_type": "markdown",
   "id": "bd138bc4",
   "metadata": {},
   "source": [
    "###**13-trouble shooting**"
   ]
  },
  {
   "cell_type": "code",
   "execution_count": 176,
   "id": "49353d1d",
   "metadata": {},
   "outputs": [
    {
     "name": "stdout",
     "output_type": "stream",
     "text": [
      "hellohammad\n"
     ]
    }
   ],
   "source": [
    "# print(im learning python with Aammar)     #Syntax Error\n",
    "\n",
    "#print (25/0)  #runtime error\n",
    "\n",
    "name = \"hammad\"\n",
    "\n",
    "print(\"hello\"+name)\n",
    "\n",
    "\n",
    "# Trouble shooting is easy pezy lemon squeezy\n"
   ]
  }
 ],
 "metadata": {
  "kernelspec": {
   "display_name": "Python 3 (ipykernel)",
   "language": "python",
   "name": "python3"
  },
  "language_info": {
   "codemirror_mode": {
    "name": "ipython",
    "version": 3
   },
   "file_extension": ".py",
   "mimetype": "text/x-python",
   "name": "python",
   "nbconvert_exporter": "python",
   "pygments_lexer": "ipython3",
   "version": "3.9.13"
  }
 },
 "nbformat": 4,
 "nbformat_minor": 5
}
